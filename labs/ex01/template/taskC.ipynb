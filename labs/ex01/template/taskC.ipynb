{
 "cells": [
  {
   "cell_type": "code",
   "execution_count": 1,
   "metadata": {},
   "outputs": [],
   "source": [
    "%matplotlib inline\n",
    "import numpy as np\n",
    "import matplotlib.pyplot as plt\n",
    "import math\n",
    "%load_ext autoreload\n",
    "%autoreload 2"
   ]
  },
  {
   "cell_type": "markdown",
   "metadata": {},
   "source": [
    "Data Generation\n",
    "==="
   ]
  },
  {
   "cell_type": "code",
   "execution_count": 2,
   "metadata": {},
   "outputs": [],
   "source": [
    "from numpy.random import rand, randn"
   ]
  },
  {
   "cell_type": "code",
   "execution_count": 3,
   "metadata": {},
   "outputs": [],
   "source": [
    "n, d, k = 100, 2, 2"
   ]
  },
  {
   "cell_type": "code",
   "execution_count": 4,
   "metadata": {},
   "outputs": [
    {
     "name": "stdout",
     "output_type": "stream",
     "text": [
      "[array([ 0.69872366,  0.75176984]), array([ 0.25997411,  0.14504062])]\n",
      "[array([[ 0.01764816,  0.        ],\n",
      "       [ 0.        ,  0.06360523]]), array([[ 0.01764816,  0.        ],\n",
      "       [ 0.        ,  0.06360523]])]\n"
     ]
    }
   ],
   "source": [
    "np.random.seed(20)\n",
    "X = rand(n, d)\n",
    "\n",
    "# means = [rand(d)  for _ in range(k)]  # works for any k\n",
    "means = [rand(d) * 0.5 + 0.5 , - rand(d)  * 0.5 + 0.5]  # for better plotting when k = 2\n",
    "\n",
    "S = np.diag(rand(d))\n",
    "\n",
    "sigmas = [S]*k # we'll use the same Sigma for all clusters for better visual results\n",
    "\n",
    "print(means)\n",
    "print(sigmas)"
   ]
  },
  {
   "cell_type": "code",
   "execution_count": 5,
   "metadata": {
    "scrolled": true
   },
   "outputs": [
    {
     "name": "stdout",
     "output_type": "stream",
     "text": [
      "[[ 0.5881308   0.89771373]\n",
      " [ 0.89153073  0.81583748]\n",
      " [ 0.03588959  0.69175758]\n",
      " [ 0.37868094  0.51851095]\n",
      " [ 0.65795147  0.19385022]\n",
      " [ 0.2723164   0.71860593]\n",
      " [ 0.78300361  0.85032764]\n",
      " [ 0.77524489  0.03666431]\n",
      " [ 0.11669374  0.7512807 ]\n",
      " [ 0.23921822  0.25480601]\n",
      " [ 0.85762553  0.94977903]\n",
      " [ 0.56168686  0.17878052]\n",
      " [ 0.77025193  0.49238104]\n",
      " [ 0.63125307  0.83949792]\n",
      " [ 0.4610394   0.49794007]\n",
      " [ 0.67941112  0.65078591]\n",
      " [ 0.26879524  0.06732467]\n",
      " [ 0.77144514  0.48098413]\n",
      " [ 0.32920641  0.51064106]\n",
      " [ 0.26362883  0.31051155]\n",
      " [ 0.62685344  0.55744981]\n",
      " [ 0.31857956  0.39484322]\n",
      " [ 0.25797459  0.58224112]\n",
      " [ 0.16162871  0.59813382]\n",
      " [ 0.82582358  0.15639172]\n",
      " [ 0.73430052  0.40864343]\n",
      " [ 0.7786879   0.80397057]\n",
      " [ 0.78607144  0.59228702]\n",
      " [ 0.6644892   0.64656729]\n",
      " [ 0.42563648  0.51356833]\n",
      " [ 0.50125784  0.03708381]\n",
      " [ 0.7081161   0.6204306 ]\n",
      " [ 0.77780853  0.45940947]\n",
      " [ 0.37980555  0.2918922 ]\n",
      " [ 0.55722886  0.0841636 ]\n",
      " [ 0.63128167  0.94457049]\n",
      " [ 0.89123753  0.87858258]\n",
      " [ 0.34475163  0.70310053]\n",
      " [ 0.5273376   0.65931696]\n",
      " [ 0.26829063  0.60776708]\n",
      " [ 0.04815737  0.69550064]\n",
      " [ 0.29927188  0.16563555]\n",
      " [ 0.33225194  0.16543775]\n",
      " [ 0.91463798  0.28402501]\n",
      " [ 0.10760726  0.11700177]\n",
      " [ 0.7555236   0.83889446]\n",
      " [ 0.03553703  0.12144377]\n",
      " [ 0.89100806  0.51509223]\n",
      " [ 0.92441901  0.58124263]\n",
      " [ 0.77325639  0.42267689]\n",
      " [ 0.82546475  0.38540456]\n",
      " [ 0.35434596  0.42807852]\n",
      " [ 0.39506518  0.84462971]\n",
      " [ 0.37382381  0.37158098]\n",
      " [ 0.41594296  0.42454448]\n",
      " [ 0.66280484  0.18977593]\n",
      " [ 0.72247865  0.25366097]\n",
      " [ 0.96267414  0.13266125]\n",
      " [ 0.8067967   0.35499545]\n",
      " [ 0.0846383   0.73116878]\n",
      " [ 0.99660085  0.00959277]\n",
      " [ 0.23757339  0.46192478]\n",
      " [ 0.76525884  0.97250331]\n",
      " [ 0.915947    0.58744678]\n",
      " [ 0.44437533  0.44107594]\n",
      " [ 0.69399137  0.72664097]\n",
      " [ 0.73473276  0.38422053]\n",
      " [ 0.94539591  0.79366926]\n",
      " [ 0.25781467  0.63648694]\n",
      " [ 0.84514052  0.00777515]\n",
      " [ 0.07703627  0.98942514]\n",
      " [ 0.79096501  0.73688738]\n",
      " [ 0.86638985  0.23075412]\n",
      " [ 0.10550225  0.74293527]\n",
      " [ 0.47515634  0.75965283]\n",
      " [ 0.48599313  0.27593379]\n",
      " [ 0.38178337  0.6762014 ]\n",
      " [ 0.73647103  0.9706047 ]\n",
      " [ 0.68136272  0.490452  ]\n",
      " [ 0.12840324  0.50383093]\n",
      " [ 0.4096691   0.25559738]\n",
      " [ 0.61806603  0.89501445]\n",
      " [ 0.66750239  0.57585336]\n",
      " [ 0.64872048  0.96107677]\n",
      " [ 0.86436925  0.78272878]\n",
      " [ 0.31110332  0.27191386]\n",
      " [ 0.95738054  0.51644268]\n",
      " [ 0.41742553  0.63886307]\n",
      " [ 0.68952736  0.76848649]\n",
      " [ 0.44285459  0.95131449]\n",
      " [ 0.53279129  0.31356138]\n",
      " [ 0.20352206  0.98534762]\n",
      " [ 0.46783921  0.70292922]\n",
      " [ 0.15460409  0.73099939]\n",
      " [ 0.66058604  0.73642868]\n",
      " [ 0.90668929  0.79331631]\n",
      " [ 0.39496973  0.92215573]\n",
      " [ 0.04094532  0.79434211]\n",
      " [ 0.83797165  0.54192669]\n",
      " [ 0.6303722   0.97248392]]\n"
     ]
    }
   ],
   "source": [
    "print(X)"
   ]
  },
  {
   "cell_type": "markdown",
   "metadata": {},
   "source": [
    "Solution\n",
    "==="
   ]
  },
  {
   "cell_type": "code",
   "execution_count": 6,
   "metadata": {
    "scrolled": true
   },
   "outputs": [],
   "source": [
    "def compute_log_p(X, mean, sigma):\n",
    "    dxm = X - mean\n",
    "    exponent = -0.5 * np.sum(dxm * np.dot(dxm, np.linalg.inv(sigma)), axis=1)\n",
    "    return exponent - np.log(2 * np.pi) * (d / 2) - 0.5 * np.log(np.linalg.det(sigma))"
   ]
  },
  {
   "cell_type": "code",
   "execution_count": 7,
   "metadata": {},
   "outputs": [],
   "source": [
    "log_ps = [compute_log_p(X, m, s) for m, s in zip(means, sigmas)]  # exercise: try to do this without looping"
   ]
  },
  {
   "cell_type": "code",
   "execution_count": 8,
   "metadata": {},
   "outputs": [
    {
     "name": "stdout",
     "output_type": "stream",
     "text": [
      "[array([  1.04426134e+00,   4.72734251e-01,  -1.09175411e+01,\n",
      "        -1.77142634e+00,  -9.35806711e-01,  -3.60176551e+00,\n",
      "         1.28061352e+00,  -2.62760104e+00,  -8.03935487e+00,\n",
      "        -6.36531288e+00,   5.34637309e-01,  -1.55472052e+00,\n",
      "         8.84354599e-01,   1.36874142e+00,  -5.48823372e-01,\n",
      "         1.46748317e+00,  -7.36114714e+00,   8.31979343e-01,\n",
      "        -2.76732434e+00,  -5.33576755e+00,   1.11503962e+00,\n",
      "        -3.53742991e+00,  -4.17139257e+00,  -6.80017057e+00,\n",
      "        -1.68598922e+00,   5.96835706e-01,   1.35563404e+00,\n",
      "         1.14211261e+00,   1.43800790e+00,  -1.00068955e+00,\n",
      "        -3.56171609e+00,   1.42011317e+00,   7.09102377e-01,\n",
      "        -2.98585392e+00,  -2.51263285e+00,   1.13714126e+00,\n",
      "         3.81785428e-01,  -2.01024310e+00,   6.58834328e-01,\n",
      "        -3.85385939e+00,  -1.04576270e+01,  -5.66308795e+00,\n",
      "        -4.94925000e+00,  -1.48244258e+00,  -1.15087926e+01,\n",
      "         1.40713991e+00,  -1.40257318e+01,   7.03600678e-02,\n",
      "        -1.13543592e-01,   5.49467030e-01,   4.79865214e-02,\n",
      "        -2.62543903e+00,  -1.12198063e+00,  -2.56871821e+00,\n",
      "        -1.54904349e+00,  -9.61129957e-01,  -4.08181956e-01,\n",
      "        -3.42872244e+00,  -1.02466539e-02,  -9.12897776e+00,\n",
      "        -5.28571144e+00,  -5.12716663e+00,   1.04977966e+00,\n",
      "         9.09904331e-03,  -1.03346812e+00,   1.55261616e+00,\n",
      "         4.59517750e-01,  -1.79482225e-01,  -4.05393618e+00,\n",
      "        -3.40043252e+00,  -9.83578800e+00,   1.31541525e+00,\n",
      "        -1.37216422e+00,  -8.41260617e+00,   1.41648033e-01,\n",
      "        -1.50379445e+00,  -1.33261450e+00,   1.14139345e+00,\n",
      "         1.01287192e+00,  -8.14030638e+00,  -2.74423350e+00,\n",
      "         1.21259943e+00,   1.28732691e+00,   1.14299153e+00,\n",
      "         7.73305635e-01,  -4.50867455e+00,  -7.72595575e-01,\n",
      "        -7.83834973e-01,   1.55362175e+00,  -6.09633480e-01,\n",
      "        -7.31373364e-01,  -5.81826683e+00,   2.91743966e-02,\n",
      "        -6.83319265e+00,   1.51515681e+00,   3.19313879e-01,\n",
      "        -1.28405338e+00,  -1.07143170e+01,   6.62713537e-01,\n",
      "         1.04290595e+00]), array([ -5.94610333, -13.27941622,  -2.21406798,   0.06253431,\n",
      "        -2.94783573,  -1.03218695, -10.10245376,  -6.05625915,\n",
      "        -1.91253736,   1.45129644, -13.65226477,  -1.02977305,\n",
      "        -6.76724787,  -6.13836295,  -0.56614464,  -5.43675421,\n",
      "         1.50853144,  -6.74057241,   0.37168958,   1.34259731,\n",
      "        -3.59223393,   0.97037077,   0.05551831,  -0.32961256,\n",
      "        -7.51415772,  -5.36220989,  -9.47794152,  -7.85577886,\n",
      "        -5.05501551,  -0.28693936,  -0.18280519,  -5.90819761,\n",
      "        -6.8158489 ,   0.98186004,  -0.97430638,  -7.37295959,\n",
      "       -13.96160039,  -1.09356525,  -2.54609278,  -0.12690662,\n",
      "        -2.09484722,   1.51112743,   1.40693753, -10.73611074,\n",
      "         0.8942986 ,  -9.18368804,   0.12671982, -10.79999261,\n",
      "       -12.44553092,  -6.51192231,  -7.95581075,   0.67614495,\n",
      "        -2.80618853,   0.78755765,   0.2548936 ,  -3.0549538 ,\n",
      "        -4.59495004, -12.43275749,  -7.25986691,  -2.01338541,\n",
      "       -13.9592479 ,   0.75463234, -11.05756786, -12.17144751,\n",
      "        -0.09407931,  -6.43767986,  -5.27730405, -15.05930859,\n",
      "        -0.34049944,  -8.29118725,  -4.99470511,  -9.18347518,\n",
      "        -8.91818922,  -1.9279511 ,  -2.72310701,  -0.02377454,\n",
      "        -1.07998948, -10.23215175,  -4.41046165,   0.05582101,\n",
      "         0.82726082,  -6.49623416,  -4.60606818,  -7.95810739,\n",
      "       -11.98776203,   1.35761335, -13.30591135,  -1.06113724,\n",
      "        -6.72485855,  -4.49959429,  -0.77372759,  -4.08284187,\n",
      "        -2.11258444,  -1.45539837,  -5.7380167 , -13.59486341,\n",
      "        -3.7054076 ,  -3.11508599,  -9.14507863,  -7.71085038])]\n"
     ]
    }
   ],
   "source": [
    "print(log_ps)"
   ]
  },
  {
   "cell_type": "code",
   "execution_count": 9,
   "metadata": {},
   "outputs": [
    {
     "name": "stdout",
     "output_type": "stream",
     "text": [
      "[0 0 1 1 0 1 0 0 1 1 0 1 0 0 0 0 1 0 1 1 0 1 1 1 0 0 0 0 0 1 1 0 0 1 1 0 0\n",
      " 1 0 1 1 1 1 0 1 0 1 0 0 0 0 1 0 1 1 0 0 0 0 1 0 1 0 0 1 0 0 0 1 0 1 0 0 1\n",
      " 0 1 1 0 0 1 1 0 0 0 0 1 0 0 0 0 0 1 0 1 0 0 0 1 0 0]\n"
     ]
    }
   ],
   "source": [
    "assignments = np.argmax(log_ps, axis=0)\n",
    "print(assignments)"
   ]
  },
  {
   "cell_type": "code",
   "execution_count": 10,
   "metadata": {
    "scrolled": true
   },
   "outputs": [
    {
     "data": {
      "image/png": "[encoded data removed]",
      "text/plain": [
       "<matplotlib.figure.Figure at 0x2ad94394eb8>"
      ]
     },
     "metadata": {},
     "output_type": "display_data"
    }
   ],
   "source": [
    "colors = np.array(['red', 'green'])[assignments]\n",
    "plt.scatter(X[:, 0], X[:, 1], c=colors, s=100)\n",
    "plt.scatter(np.array(means)[:, 0], np.array(means)[:, 1], marker='*', s=200)\n",
    "plt.show()"
   ]
  },
  {
   "cell_type": "code",
   "execution_count": null,
   "metadata": {},
   "outputs": [],
   "source": []
  }
 ],
 "metadata": {
  "kernelspec": {
   "display_name": "Python 3",
   "language": "python",
   "name": "python3"
  },
  "language_info": {
   "codemirror_mode": {
    "name": "ipython",
    "version": 3
   },
   "file_extension": ".py",
   "mimetype": "text/x-python",
   "name": "python",
   "nbconvert_exporter": "python",
   "pygments_lexer": "ipython3",
   "version": "3.6.2"
  }
 },
 "nbformat": 4,
 "nbformat_minor": 1
}
